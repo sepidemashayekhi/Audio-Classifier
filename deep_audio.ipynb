{
  "nbformat": 4,
  "nbformat_minor": 0,
  "metadata": {
    "colab": {
      "name": "deep audio.ipynb",
      "provenance": []
    },
    "kernelspec": {
      "name": "python3",
      "display_name": "Python 3"
    },
    "language_info": {
      "name": "python"
    },
    "accelerator": "GPU"
  },
  "cells": [
    {
      "cell_type": "code",
      "execution_count": null,
      "metadata": {
        "id": "RV6niLeQezuQ",
        "colab": {
          "base_uri": "https://localhost:8080/"
        },
        "outputId": "6263275d-d964-4e52-b479-a2c703ff6810"
      },
      "outputs": [
        {
          "output_type": "stream",
          "name": "stdout",
          "text": [
            "Looking in indexes: https://pypi.org/simple, https://us-python.pkg.dev/colab-wheels/public/simple/\n",
            "Collecting tensorflow_io==0.23.1\n",
            "  Downloading tensorflow_io-0.23.1-cp37-cp37m-manylinux_2_12_x86_64.manylinux2010_x86_64.whl (23.1 MB)\n",
            "\u001b[K     |████████████████████████████████| 23.1 MB 1.5 MB/s \n",
            "\u001b[?25hCollecting tensorflow-io-gcs-filesystem==0.23.1\n",
            "  Downloading tensorflow_io_gcs_filesystem-0.23.1-cp37-cp37m-manylinux_2_12_x86_64.manylinux2010_x86_64.whl (2.1 MB)\n",
            "\u001b[K     |████████████████████████████████| 2.1 MB 57.4 MB/s \n",
            "\u001b[?25hInstalling collected packages: tensorflow-io-gcs-filesystem, tensorflow-io\n",
            "  Attempting uninstall: tensorflow-io-gcs-filesystem\n",
            "    Found existing installation: tensorflow-io-gcs-filesystem 0.26.0\n",
            "    Uninstalling tensorflow-io-gcs-filesystem-0.26.0:\n",
            "      Successfully uninstalled tensorflow-io-gcs-filesystem-0.26.0\n",
            "Successfully installed tensorflow-io-0.23.1 tensorflow-io-gcs-filesystem-0.23.1\n"
          ]
        }
      ],
      "source": [
        "!pip install tensorflow_io==0.23.1 "
      ]
    },
    {
      "cell_type": "code",
      "source": [
        "import tensorflow as tf \n",
        "import tensorflow_io as tfio\n",
        "import matplotlib.pyplot as plt \n",
        "import os "
      ],
      "metadata": {
        "id": "zLtY9Lr0ga0h"
      },
      "execution_count": null,
      "outputs": []
    },
    {
      "cell_type": "code",
      "source": [
        "!cd '/content/drive/MyDrive/Data'"
      ],
      "metadata": {
        "id": "4eCallVjtgLy"
      },
      "execution_count": null,
      "outputs": []
    },
    {
      "cell_type": "code",
      "source": [
        "!unzip '/content/drive/MyDrive/archive(1).zip'"
      ],
      "metadata": {
        "id": "CGXwvb9dD4fn"
      },
      "execution_count": null,
      "outputs": []
    },
    {
      "cell_type": "code",
      "source": [
        "def load_wav_16k_mono(file_name):\n",
        "  file_contents=tf.io.read_file(file_name)\n",
        "  wav,sample_rate=tf.audio.decode_wav(file_contents,desired_channels=1)\n",
        "  wav=tf.squeeze(wav,axis=-1)\n",
        "  sample_rate=tf.cast(sample_rate,dtype=tf.int64)\n",
        "  wav=tfio.audio.resample(wav,rate_in=sample_rate,rate_out=16000)\n",
        "  return wav "
      ],
      "metadata": {
        "id": "PyMnHlPNkCod"
      },
      "execution_count": null,
      "outputs": []
    },
    {
      "cell_type": "code",
      "source": [
        "yes=os.path.join('/content/data','Parsed_Capuchinbird_Clips','XC114132-4.wav')\n",
        "no=os.path.join('/content/data','Parsed_Not_Capuchinbird_Clips','Crickets-chirping-at-night-3.wav')"
      ],
      "metadata": {
        "id": "hiCYxO6HEQ0n"
      },
      "execution_count": null,
      "outputs": []
    },
    {
      "cell_type": "code",
      "source": [
        "Neg=os.path.join('/content/data','Parsed_Not_Capuchinbird_Clips')\n",
        "Pos=os.path.join('/content/data','Parsed_Capuchinbird_Clips')"
      ],
      "metadata": {
        "id": "qBklDcOEHLp0"
      },
      "execution_count": null,
      "outputs": []
    },
    {
      "cell_type": "code",
      "source": [
        "pos=tf.data.Dataset.list_files(Pos+'/*.wav')\n",
        "neg=tf.data.Dataset.list_files(Neg+'/*.wav')"
      ],
      "metadata": {
        "id": "m3llswshIF-L"
      },
      "execution_count": null,
      "outputs": []
    },
    {
      "cell_type": "code",
      "source": [
        "positives = tf.data.Dataset.zip((pos, tf.data.Dataset.from_tensor_slices(tf.ones(len(pos)))))\n",
        "negatives = tf.data.Dataset.zip((neg, tf.data.Dataset.from_tensor_slices(tf.zeros(len(neg)))))\n",
        "data = positives.concatenate(negatives)"
      ],
      "metadata": {
        "id": "grp7ZMwPKGMN"
      },
      "execution_count": null,
      "outputs": []
    },
    {
      "cell_type": "code",
      "source": [
        "length=[]\n",
        "for File in os.listdir(os.path.join('/content/data','Parsed_Capuchinbird_Clips')):\n",
        "  tensor_wav=load_wav_16k_mono(os.path.join('/content/data','Parsed_Capuchinbird_Clips',File))\n",
        "  length.append(len(tensor_wav))"
      ],
      "metadata": {
        "id": "QKPdrCfaLh_u",
        "colab": {
          "base_uri": "https://localhost:8080/"
        },
        "outputId": "8233a402-5e6b-4bf0-f17b-38959edaa7b2"
      },
      "execution_count": null,
      "outputs": [
        {
          "output_type": "stream",
          "name": "stdout",
          "text": [
            "WARNING:tensorflow:5 out of the last 5 calls to <function pfor.<locals>.f at 0x7f0c3abc6dd0> triggered tf.function retracing. Tracing is expensive and the excessive number of tracings could be due to (1) creating @tf.function repeatedly in a loop, (2) passing tensors with different shapes, (3) passing Python objects instead of tensors. For (1), please define your @tf.function outside of the loop. For (2), @tf.function has experimental_relax_shapes=True option that relaxes argument shapes that can avoid unnecessary retracing. For (3), please refer to https://www.tensorflow.org/guide/function#controlling_retracing and https://www.tensorflow.org/api_docs/python/tf/function for  more details.\n",
            "WARNING:tensorflow:6 out of the last 6 calls to <function pfor.<locals>.f at 0x7f0c3abc6d40> triggered tf.function retracing. Tracing is expensive and the excessive number of tracings could be due to (1) creating @tf.function repeatedly in a loop, (2) passing tensors with different shapes, (3) passing Python objects instead of tensors. For (1), please define your @tf.function outside of the loop. For (2), @tf.function has experimental_relax_shapes=True option that relaxes argument shapes that can avoid unnecessary retracing. For (3), please refer to https://www.tensorflow.org/guide/function#controlling_retracing and https://www.tensorflow.org/api_docs/python/tf/function for  more details.\n"
          ]
        }
      ]
    },
    {
      "cell_type": "code",
      "source": [
        "maxLen=tf.math.reduce_max(length)\n",
        "meanLen=tf.math.reduce_mean(length)\n",
        "minLen=tf.math.reduce_min(length)"
      ],
      "metadata": {
        "id": "yqtkJRTBN5UA"
      },
      "execution_count": null,
      "outputs": []
    },
    {
      "cell_type": "code",
      "source": [
        "# Preprocessing \n",
        "def preprocess(file_name,label):\n",
        "  wav=load_wav_16k_mono(file_name)\n",
        "  wav=wav[:48000]\n",
        "  zero_padding = tf.zeros(48000 -tf.shape(wav), dtype=tf.float32)\n",
        "  wav=tf.concat([zero_padding,wav],0)\n",
        "  spectrogram = tf.signal.stft(wav, frame_length=320, frame_step=32)\n",
        "  spectrogram = tf.abs(spectrogram)\n",
        "  spectrogram = tf.expand_dims(spectrogram, axis=2)\n",
        "  return spectrogram,label"
      ],
      "metadata": {
        "id": "2VpkIy1iPNl5"
      },
      "execution_count": null,
      "outputs": []
    },
    {
      "cell_type": "code",
      "source": [
        "data = data.map(preprocess)\n",
        "data = data.cache()\n",
        "data = data.shuffle(buffer_size=1000)\n",
        "data = data.batch(16)\n",
        "data = data.prefetch(8)"
      ],
      "metadata": {
        "colab": {
          "base_uri": "https://localhost:8080/"
        },
        "id": "Hl2H-TFTWC_p",
        "outputId": "caf45fef-02dd-472b-c5a7-2d862b83f91a"
      },
      "execution_count": null,
      "outputs": [
        {
          "output_type": "stream",
          "name": "stdout",
          "text": [
            "WARNING:tensorflow:Using a while_loop for converting IO>AudioResample\n"
          ]
        }
      ]
    },
    {
      "cell_type": "code",
      "source": [
        "train = data.take(36)\n",
        "test = data.skip(36).take(15)"
      ],
      "metadata": {
        "id": "Xo4mpAQXbtV7"
      },
      "execution_count": null,
      "outputs": []
    },
    {
      "cell_type": "code",
      "source": [
        "from tensorflow.keras.layers import  Dense, Conv2D, Flatten \n",
        "from tensorflow.keras.models import Sequential"
      ],
      "metadata": {
        "id": "QKCz_UL6cDjh"
      },
      "execution_count": null,
      "outputs": []
    },
    {
      "cell_type": "code",
      "source": [
        "model = Sequential()\n",
        "model.add(Conv2D(16, (3,3), activation='relu', input_shape=(1491, 257,1)))\n",
        "model.add(Conv2D(16, (3,3), activation='relu'))\n",
        "model.add(Flatten())\n",
        "model.add(Dense(128, activation='relu'))\n",
        "model.add(Dense(1, activation='sigmoid'))\n",
        "\n",
        "\n",
        "model.compile('Adam', loss='BinaryCrossentropy', metrics=[tf.keras.metrics.Recall(),tf.keras.metrics.Precision()])"
      ],
      "metadata": {
        "id": "Aq9QCm_rggj2"
      },
      "execution_count": null,
      "outputs": []
    },
    {
      "cell_type": "code",
      "source": [
        "hist = model.fit(train, epochs=4, validation_data=test)"
      ],
      "metadata": {
        "id": "DTs-0zSifx5O"
      },
      "execution_count": null,
      "outputs": []
    },
    {
      "cell_type": "code",
      "source": [
        "model.save('audio_model.h5')"
      ],
      "metadata": {
        "id": "tGWfjI07f0vF"
      },
      "execution_count": null,
      "outputs": []
    }
  ]
}