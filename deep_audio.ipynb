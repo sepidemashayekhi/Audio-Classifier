{
  "nbformat": 4,
  "nbformat_minor": 0,
  "metadata": {
    "colab": {
      "name": "deep audio.ipynb",
      "provenance": []
    },
    "kernelspec": {
      "name": "python3",
      "display_name": "Python 3"
    },
    "language_info": {
      "name": "python"
    },
    "accelerator": "GPU"
  },
  "cells": [
    {
      "cell_type": "code",
      "execution_count": 6,
      "metadata": {
        "id": "RV6niLeQezuQ",
        "colab": {
          "base_uri": "https://localhost:8080/"
        },
        "outputId": "0f64b0c8-1f44-40d8-c9d5-ecb497d1d92b"
      },
      "outputs": [
        {
          "output_type": "stream",
          "name": "stdout",
          "text": [
            "Looking in indexes: https://pypi.org/simple, https://us-python.pkg.dev/colab-wheels/public/simple/\n",
            "Collecting tensorflow-io\n",
            "  Downloading tensorflow_io-0.26.0-cp37-cp37m-manylinux_2_12_x86_64.manylinux2010_x86_64.whl (25.9 MB)\n",
            "\u001b[K     |████████████████████████████████| 25.9 MB 1.4 MB/s \n",
            "\u001b[?25hRequirement already satisfied: tensorflow-io-gcs-filesystem==0.26.0 in /usr/local/lib/python3.7/dist-packages (from tensorflow-io) (0.26.0)\n",
            "Installing collected packages: tensorflow-io\n",
            "Successfully installed tensorflow-io-0.26.0\n"
          ]
        }
      ],
      "source": [
        "!pip install tensorflow_io==0.23.1 "
      ]
    },
    {
      "cell_type": "code",
      "source": [
        "import tensorflow as tf \n",
        "import tensorflow_io as tfio\n",
        "import matplotlib.pyplot as plt \n",
        "import os "
      ],
      "metadata": {
        "id": "zLtY9Lr0ga0h"
      },
      "execution_count": 1,
      "outputs": []
    },
    {
      "cell_type": "code",
      "source": [
        "from google.colab import drive\n",
        "drive.mount('/content/drive')"
      ],
      "metadata": {
        "colab": {
          "base_uri": "https://localhost:8080/"
        },
        "id": "__pJub82DfqO",
        "outputId": "600a146d-2bde-4fe1-d257-41fd3d5c10e0"
      },
      "execution_count": 1,
      "outputs": [
        {
          "output_type": "stream",
          "name": "stdout",
          "text": [
            "Drive already mounted at /content/drive; to attempt to forcibly remount, call drive.mount(\"/content/drive\", force_remount=True).\n"
          ]
        }
      ]
    },
    {
      "cell_type": "code",
      "source": [
        "!cd '/content/drive/MyDrive/Data'"
      ],
      "metadata": {
        "id": "4eCallVjtgLy"
      },
      "execution_count": 2,
      "outputs": []
    },
    {
      "cell_type": "code",
      "source": [
        "!unzip '/content/drive/MyDrive/archive(1).zip'"
      ],
      "metadata": {
        "id": "CGXwvb9dD4fn"
      },
      "execution_count": null,
      "outputs": []
    },
    {
      "cell_type": "code",
      "source": [
        "def load_wav_16k_mono(file_name):\n",
        "  file_contents=tf.io.read_file(file_name)\n",
        "  wav,sample_rate=tf.audio.decode_wav(file_contents,desired_channels=1)\n",
        "  wav=tf.squeeze(wav,axis=-1)\n",
        "  sample_rate=tf.cast(sample_rate,dtype=tf.int64)\n",
        "  wav=tfio.audio.resample(wav,rate_in=sample_rate,rate_out=16000)\n",
        "  return wav "
      ],
      "metadata": {
        "id": "PyMnHlPNkCod"
      },
      "execution_count": 3,
      "outputs": []
    },
    {
      "cell_type": "code",
      "source": [
        "yes=os.path.join('/content/data','Parsed_Capuchinbird_Clips','XC114131-0.wav')\n",
        "no=os.path.join('/content/data','Parsed_Not_Capuchinbird_Clips','Crickets-chirping-at-night-3.wav')"
      ],
      "metadata": {
        "id": "hiCYxO6HEQ0n"
      },
      "execution_count": 2,
      "outputs": []
    },
    {
      "cell_type": "code",
      "source": [
        "Neg=os.path.join('/content/data','Parsed_Not_Capuchinbird_Clips')\n",
        "Pos=os.path.join('/content/data','Parsed_Capuchinbird_Clips')"
      ],
      "metadata": {
        "id": "qBklDcOEHLp0"
      },
      "execution_count": 12,
      "outputs": []
    },
    {
      "cell_type": "code",
      "source": [
        "pos=tf.data.Dataset.list_files(Pos+'/*.wav')\n",
        "neg=tf.data.Dataset.list_files(Neg+'/*.wav')"
      ],
      "metadata": {
        "id": "m3llswshIF-L"
      },
      "execution_count": 18,
      "outputs": []
    },
    {
      "cell_type": "code",
      "source": [
        "positives = tf.data.Dataset.zip((pos, tf.data.Dataset.from_tensor_slices(tf.ones(len(pos)))))\n",
        "negatives = tf.data.Dataset.zip((neg, tf.data.Dataset.from_tensor_slices(tf.zeros(len(neg)))))\n",
        "data = positives.concatenate(negatives)"
      ],
      "metadata": {
        "id": "grp7ZMwPKGMN"
      },
      "execution_count": 20,
      "outputs": []
    },
    {
      "cell_type": "code",
      "source": [
        "length=[]\n",
        "for File in os.listdir(os.path.join('/content/data','Parsed_Capuchinbird_Clips')):\n",
        "  tensor_wav=load_wav_16k_mono(os.path.join('/content/data','Parsed_Capuchinbird_Clips',File))\n",
        "  length.append(len(tensor_wav))"
      ],
      "metadata": {
        "id": "QKPdrCfaLh_u"
      },
      "execution_count": 24,
      "outputs": []
    },
    {
      "cell_type": "code",
      "source": [
        "maxLen=tf.math.reduce_max(length)\n",
        "meanLen=tf.math.reduce_mean(length)\n",
        "minLen=tf.math.reduce_min(length)"
      ],
      "metadata": {
        "id": "yqtkJRTBN5UA"
      },
      "execution_count": 26,
      "outputs": []
    },
    {
      "cell_type": "code",
      "source": [
        ""
      ],
      "metadata": {
        "id": "2VpkIy1iPNl5"
      },
      "execution_count": null,
      "outputs": []
    }
  ]
}